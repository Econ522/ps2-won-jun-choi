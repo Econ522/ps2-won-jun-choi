{
 "cells": [
  {
   "cell_type": "markdown",
   "id": "c380ed25-5a0b-4632-84b5-8028dcae1ad3",
   "metadata": {},
   "source": [
    "# Problem Set 2"
   ]
  },
  {
   "cell_type": "markdown",
   "id": "04fbbc8d-48aa-469c-adeb-219360ff05eb",
   "metadata": {},
   "source": [
    "## Question 4"
   ]
  },
  {
   "cell_type": "markdown",
   "id": "43170294-bb2d-482c-8af9-b25752eb0b8b",
   "metadata": {},
   "source": [
    "(BH 26.12) Use the cps09mar dataset and the subset of men. Estimate a multinomial logit model for\n",
    "marriage status similar to Figure 26.1 as a function of age. How do your findings compare with those for\n",
    "women?"
   ]
  },
  {
   "cell_type": "code",
   "execution_count": 3,
   "id": "52b184f2-e58e-4b0b-b79e-d975f3107b48",
   "metadata": {},
   "outputs": [],
   "source": [
    "import os\n",
    "import sys\n",
    "import numpy as np\n",
    "import pandas as pd\n",
    "\n",
    "cps09mar = pd.read_stata('https://www.ssc.wisc.edu/~bhansen/econometrics/cps09mar.dta')"
   ]
  },
  {
   "cell_type": "code",
   "execution_count": 5,
   "id": "b2e17bbc-6dfb-4097-a9c7-783e1a268500",
   "metadata": {},
   "outputs": [],
   "source": [
    "df = cps09mar\n",
    "df['married'] = (df['marital']<=4)*1\n",
    "df['divorced'] = (df['marital']==5)*1\n",
    "df['seperated'] = (df['marital']==6)*1\n",
    "df['never'] = (df['marital']==7)*1"
   ]
  },
  {
   "cell_type": "code",
   "execution_count": 82,
   "id": "b0ad359b-4564-4c52-b70d-393928414433",
   "metadata": {},
   "outputs": [],
   "source": [
    "def log_f(beta,data):\n",
    "    \"\"\"\n",
    "    See BH page 832.\n",
    "    \n",
    "    beta = (b1=beta_m,b2=beta_d,b3=beta_s,b4=beta_n)\n",
    "    \"\"\"\n",
    "    P1 = np.exp(beta[0] + beta[1]*data.age)\n",
    "    P2 = np.exp(beta[2] + beta[3]*data.age)\n",
    "    P3 = np.exp(beta[4] + beta[5]*data.age)\n",
    "    P4 = np.exp(beta[6]*data.age)\n",
    "    denom = P1+P2+P3+P4\n",
    "    l_i = (data.married*P1 + data.divorced*P2 \n",
    "           + data.seperated*P3 + data.never*P4)/denom\n",
    "    return np.sum(l_i)"
   ]
  },
  {
   "cell_type": "code",
   "execution_count": 129,
   "id": "bdf0555a-6210-4317-ae27-cb3fc68faaa4",
   "metadata": {},
   "outputs": [
    {
     "name": "stderr",
     "output_type": "stream",
     "text": [
      "/home/wonjun/anaconda3/lib/python3.9/site-packages/pandas/core/arraylike.py:397: RuntimeWarning: overflow encountered in exp\n",
      "  result = getattr(ufunc, method)(*inputs, **kwargs)\n"
     ]
    },
    {
     "name": "stdout",
     "output_type": "stream",
     "text": [
      "7 -11.31578947368421 -22315.999924462485 [-949.95027864   18.64058881  -11.92755767  -26.24548903  -11.74064079\n",
      "  -21.59130858  -16.08028208]\n"
     ]
    },
    {
     "data": {
      "text/plain": [
       "<AxesSubplot: xlabel='age'>"
      ]
     },
     "execution_count": 129,
     "metadata": {},
     "output_type": "execute_result"
    },
    {
     "data": {
      "image/png": "[encoded data removed]",
      "text/plain": [
       "<Figure size 640x480 with 1 Axes>"
      ]
     },
     "metadata": {},
     "output_type": "display_data"
    }
   ],
   "source": [
    "from scipy.optimize import minimize\n",
    "# subset\n",
    "df = cps09mar.loc[cps09mar.female==0].copy()\n",
    "\n",
    "# optimization\n",
    "def l(beta):  # beta as the only input (for minimize(-ll))\n",
    "    return -log_f(beta, data=df)\n",
    "init = np.linspace(-15,-5,20)\n",
    "res = []\n",
    "for i,b0 in enumerate(init):\n",
    "    opt = minimize(l, [b0]*7, method = 'L-BFGS-B')\n",
    "    res.append(opt)\n",
    "Q_min = np.argmin([o.fun for o in res])\n",
    "opt = res[Q_min]\n",
    "print(Q_min, init[Q_min], opt.fun, opt.x)\n",
    "beta_hat = opt.x\n",
    "\n",
    "# generate results\n",
    "df['exp1'] = np.exp(beta_hat[0]+beta_hat[1]*df['age'])\n",
    "df['exp2'] = np.exp(beta_hat[2]+beta_hat[3]*df['age'])\n",
    "df['exp3'] = np.exp(beta_hat[4]+beta_hat[5]*df['age'])\n",
    "df['exp4'] = np.exp(beta_hat[6]*df['age'])\n",
    "df['denom'] = df['exp1'] + df['exp2'] + df['exp3'] + df['exp4']\n",
    "df['Pr(married)'] = df['exp1'] / df['denom']\n",
    "df['Pr(divorced)'] = df['exp2'] / df['denom']\n",
    "df['Pr(seperated)'] = df['exp3'] / df['denom']\n",
    "df['Pr(never)'] = df['exp4'] / df['denom']\n",
    "\n",
    "# plot\n",
    "df_unique = df[df.age.duplicated()==False].sort_values('age')\n",
    "df_unique.plot('age',['Pr(married)','Pr(divorced)','Pr(seperated)','Pr(never)'])"
   ]
  },
  {
   "cell_type": "code",
   "execution_count": 117,
   "id": "cb6d5f60-5ca7-46ad-9250-42ce253d1bbb",
   "metadata": {},
   "outputs": [
    {
     "data": {
      "text/plain": [
       "array([-1. , -0.9, -0.8, -0.7, -0.6, -0.5, -0.4, -0.3, -0.2, -0.1,  0. ,\n",
       "        0.1,  0.2,  0.3,  0.4,  0.5,  0.6,  0.7,  0.8,  0.9,  1. ])"
      ]
     },
     "execution_count": 117,
     "metadata": {},
     "output_type": "execute_result"
    }
   ],
   "source": [
    "init"
   ]
  },
  {
   "cell_type": "code",
   "execution_count": 120,
   "id": "4bb9fcb9-1a76-47b8-8bc9-6363944af355",
   "metadata": {},
   "outputs": [
    {
     "data": {
      "text/plain": [
       "1.0"
      ]
     },
     "execution_count": 120,
     "metadata": {},
     "output_type": "execute_result"
    }
   ],
   "source": [
    "init[Q_min]"
   ]
  },
  {
   "cell_type": "code",
   "execution_count": 114,
   "id": "b9179256-6b8f-4cd1-a061-24c04e948295",
   "metadata": {},
   "outputs": [
    {
     "data": {
      "text/plain": [
       "array([1.01883436, 1.83697825, 0.99246455, 0.68322313, 0.98989147,\n",
       "       0.5619929 , 0.91780571])"
      ]
     },
     "execution_count": 114,
     "metadata": {},
     "output_type": "execute_result"
    }
   ],
   "source": [
    "opt.x"
   ]
  },
  {
   "cell_type": "code",
   "execution_count": null,
   "id": "434dcfb1-67d6-41cc-8f27-ce71c61337df",
   "metadata": {},
   "outputs": [],
   "source": []
  },
  {
   "cell_type": "code",
   "execution_count": 67,
   "id": "67357e49-6230-4ac2-83b3-715607ff152e",
   "metadata": {},
   "outputs": [
    {
     "data": {
      "text/plain": [
       "<AxesSubplot: xlabel='age'>"
      ]
     },
     "execution_count": 67,
     "metadata": {},
     "output_type": "execute_result"
    },
    {
     "data": {
      "image/png": "[encoded data removed]",
      "text/plain": [
       "<Figure size 640x480 with 1 Axes>"
      ]
     },
     "metadata": {},
     "output_type": "display_data"
    }
   ],
   "source": []
  },
  {
   "cell_type": "code",
   "execution_count": 130,
   "id": "4ffc93a1-67b3-4fc8-8a6c-b6c157d64ce9",
   "metadata": {},
   "outputs": [
    {
     "name": "stderr",
     "output_type": "stream",
     "text": [
      "/home/wonjun/anaconda3/lib/python3.9/site-packages/pandas/core/arraylike.py:397: RuntimeWarning: overflow encountered in exp\n",
      "  result = getattr(ufunc, method)(*inputs, **kwargs)\n",
      "/home/wonjun/anaconda3/lib/python3.9/site-packages/pandas/core/arraylike.py:397: RuntimeWarning: overflow encountered in exp\n",
      "  result = getattr(ufunc, method)(*inputs, **kwargs)\n"
     ]
    },
    {
     "data": {
      "text/plain": [
       "<AxesSubplot: xlabel='age'>"
      ]
     },
     "execution_count": 130,
     "metadata": {},
     "output_type": "execute_result"
    },
    {
     "data": {
      "image/png": "[encoded data removed]",
      "text/plain": [
       "<Figure size 640x480 with 1 Axes>"
      ]
     },
     "metadata": {},
     "output_type": "display_data"
    }
   ],
   "source": [
    "df = cps09mar.loc[cps09mar.female==1].copy()\n",
    "def l(beta):  # beta as the only input (for minimize())\n",
    "    return log_f(beta, data=df)\n",
    "opt = minimize(l, [0.1]*7, method = 'BFGS')\n",
    "beta_hat = opt.x\n",
    "df['exp1'] = np.exp(beta_hat[0]+beta_hat[1]*df['age'])\n",
    "df['exp2'] = np.exp(beta_hat[2]+beta_hat[3]*df['age'])\n",
    "df['exp3'] = np.exp(beta_hat[4]+beta_hat[5]*df['age'])\n",
    "df['exp4'] = np.exp(beta_hat[6]*df['age'])\n",
    "df['denom'] = df['exp1'] + df['exp2'] + df['exp3'] + df['exp4']\n",
    "df['Pr(married)'] = df['exp1'] / df['denom']\n",
    "df['Pr(divorced)'] = df['exp2'] / df['denom']\n",
    "df['Pr(seperated)'] = df['exp3'] / df['denom']\n",
    "df['Pr(never)'] = df['exp4'] / df['denom']\n",
    "df_unique = df[df.age.duplicated()==False].sort_values('age')\n",
    "df_unique.plot('age',['Pr(married)','Pr(divorced)','Pr(seperated)','Pr(never)'])"
   ]
  },
  {
   "cell_type": "code",
   "execution_count": 62,
   "id": "1756df43-151c-4084-9e8b-34feca27e1f2",
   "metadata": {},
   "outputs": [
    {
     "name": "stderr",
     "output_type": "stream",
     "text": [
      "/home/wonjun/anaconda3/lib/python3.9/site-packages/pandas/core/arraylike.py:397: RuntimeWarning: overflow encountered in exp\n",
      "  result = getattr(ufunc, method)(*inputs, **kwargs)\n",
      "/home/wonjun/anaconda3/lib/python3.9/site-packages/scipy/optimize/_numdiff.py:576: RuntimeWarning: invalid value encountered in subtract\n",
      "  df = fun(x) - f0\n",
      "/home/wonjun/anaconda3/lib/python3.9/site-packages/pandas/core/arraylike.py:397: RuntimeWarning: overflow encountered in exp\n",
      "  result = getattr(ufunc, method)(*inputs, **kwargs)\n",
      "/home/wonjun/anaconda3/lib/python3.9/site-packages/scipy/optimize/_numdiff.py:576: RuntimeWarning: invalid value encountered in subtract\n",
      "  df = fun(x) - f0\n",
      "/home/wonjun/anaconda3/lib/python3.9/site-packages/pandas/core/arraylike.py:397: RuntimeWarning: overflow encountered in exp\n",
      "  result = getattr(ufunc, method)(*inputs, **kwargs)\n",
      "/home/wonjun/anaconda3/lib/python3.9/site-packages/scipy/optimize/_numdiff.py:576: RuntimeWarning: invalid value encountered in subtract\n",
      "  df = fun(x) - f0\n",
      "/home/wonjun/anaconda3/lib/python3.9/site-packages/pandas/core/arraylike.py:397: RuntimeWarning: overflow encountered in exp\n",
      "  result = getattr(ufunc, method)(*inputs, **kwargs)\n",
      "/home/wonjun/anaconda3/lib/python3.9/site-packages/scipy/optimize/_numdiff.py:576: RuntimeWarning: invalid value encountered in subtract\n",
      "  df = fun(x) - f0\n",
      "/home/wonjun/anaconda3/lib/python3.9/site-packages/pandas/core/arraylike.py:397: RuntimeWarning: overflow encountered in exp\n",
      "  result = getattr(ufunc, method)(*inputs, **kwargs)\n",
      "/home/wonjun/anaconda3/lib/python3.9/site-packages/scipy/optimize/_numdiff.py:576: RuntimeWarning: invalid value encountered in subtract\n",
      "  df = fun(x) - f0\n",
      "/home/wonjun/anaconda3/lib/python3.9/site-packages/pandas/core/arraylike.py:397: RuntimeWarning: overflow encountered in exp\n",
      "  result = getattr(ufunc, method)(*inputs, **kwargs)\n",
      "/home/wonjun/anaconda3/lib/python3.9/site-packages/scipy/optimize/_numdiff.py:576: RuntimeWarning: invalid value encountered in subtract\n",
      "  df = fun(x) - f0\n",
      "/home/wonjun/anaconda3/lib/python3.9/site-packages/pandas/core/arraylike.py:397: RuntimeWarning: overflow encountered in exp\n",
      "  result = getattr(ufunc, method)(*inputs, **kwargs)\n",
      "/home/wonjun/anaconda3/lib/python3.9/site-packages/scipy/optimize/_numdiff.py:576: RuntimeWarning: invalid value encountered in subtract\n",
      "  df = fun(x) - f0\n",
      "/home/wonjun/anaconda3/lib/python3.9/site-packages/pandas/core/arraylike.py:397: RuntimeWarning: overflow encountered in exp\n",
      "  result = getattr(ufunc, method)(*inputs, **kwargs)\n",
      "/home/wonjun/anaconda3/lib/python3.9/site-packages/scipy/optimize/_numdiff.py:576: RuntimeWarning: invalid value encountered in subtract\n",
      "  df = fun(x) - f0\n",
      "/home/wonjun/anaconda3/lib/python3.9/site-packages/pandas/core/arraylike.py:397: RuntimeWarning: overflow encountered in exp\n",
      "  result = getattr(ufunc, method)(*inputs, **kwargs)\n",
      "/home/wonjun/anaconda3/lib/python3.9/site-packages/scipy/optimize/_numdiff.py:576: RuntimeWarning: invalid value encountered in subtract\n",
      "  df = fun(x) - f0\n",
      "/home/wonjun/anaconda3/lib/python3.9/site-packages/pandas/core/arraylike.py:397: RuntimeWarning: overflow encountered in exp\n",
      "  result = getattr(ufunc, method)(*inputs, **kwargs)\n",
      "/home/wonjun/anaconda3/lib/python3.9/site-packages/scipy/optimize/_numdiff.py:576: RuntimeWarning: invalid value encountered in subtract\n",
      "  df = fun(x) - f0\n"
     ]
    }
   ],
   "source": [
    "res = []\n",
    "for i,init in enumerate([-0.1, -0.05, 0, 0.5, 1]):\n",
    "    opt = minimize(l, [init]*7, method='BFGS')\n",
    "    res.append(opt.fun)"
   ]
  },
  {
   "cell_type": "code",
   "execution_count": 63,
   "id": "e9cda1b7-a2e5-469a-a10f-f0a48f136c2a",
   "metadata": {},
   "outputs": [
    {
     "data": {
      "text/plain": [
       "[-538.875065821317,\n",
       " -2957.17516319687,\n",
       " -21602.0,\n",
       " -4.3582989471928115e+18,\n",
       " -9.981172140037766e+35]"
      ]
     },
     "execution_count": 63,
     "metadata": {},
     "output_type": "execute_result"
    }
   ],
   "source": [
    "res"
   ]
  },
  {
   "cell_type": "code",
   "execution_count": null,
   "id": "edd5feed-6da0-451b-aa18-f1844792e273",
   "metadata": {},
   "outputs": [],
   "source": []
  }
 ],
 "metadata": {
  "environment": {
   "kernel": "python3",
   "name": "common-cpu.m94",
   "type": "gcloud",
   "uri": "gcr.io/deeplearning-platform-release/base-cpu:m94"
  },
  "kernelspec": {
   "display_name": "Python 3 (ipykernel)",
   "language": "python",
   "name": "python3"
  },
  "language_info": {
   "codemirror_mode": {
    "name": "ipython",
    "version": 3
   },
   "file_extension": ".py",
   "mimetype": "text/x-python",
   "name": "python",
   "nbconvert_exporter": "python",
   "pygments_lexer": "ipython3",
   "version": "3.9.12"
  }
 },
 "nbformat": 4,
 "nbformat_minor": 5
}

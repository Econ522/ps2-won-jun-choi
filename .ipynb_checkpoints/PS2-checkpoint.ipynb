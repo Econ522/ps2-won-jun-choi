{
 "cells": [
  {
   "cell_type": "markdown",
   "id": "c380ed25-5a0b-4632-84b5-8028dcae1ad3",
   "metadata": {},
   "source": [
    "# Problem Set 2"
   ]
  },
  {
   "cell_type": "markdown",
   "id": "04fbbc8d-48aa-469c-adeb-219360ff05eb",
   "metadata": {},
   "source": [
    "## Question 4"
   ]
  },
  {
   "cell_type": "markdown",
   "id": "43170294-bb2d-482c-8af9-b25752eb0b8b",
   "metadata": {},
   "source": [
    "(BH 26.12) Use the cps09mar dataset and the subset of men. Estimate a multinomial logit model for\n",
    "marriage status similar to Figure 26.1 as a function of age. How do your findings compare with those for\n",
    "women?"
   ]
  },
  {
   "cell_type": "code",
   "execution_count": 16,
   "id": "52b184f2-e58e-4b0b-b79e-d975f3107b48",
   "metadata": {},
   "outputs": [],
   "source": [
    "import os\n",
    "import sys\n",
    "import numpy as np\n",
    "import pandas as pd\n",
    "\n",
    "cps09mar = pd.read_stata('https://www.ssc.wisc.edu/~bhansen/econometrics/cps09mar.dta')"
   ]
  },
  {
   "cell_type": "code",
   "execution_count": 17,
   "id": "3d32a2cd-0a22-48c8-8546-bcbddcacafd3",
   "metadata": {},
   "outputs": [
    {
     "data": {
      "text/plain": [
       "Index(['age', 'female', 'hisp', 'education', 'earnings', 'hours', 'week',\n",
       "       'union', 'uncov', 'region', 'race', 'marital'],\n",
       "      dtype='object')"
      ]
     },
     "execution_count": 17,
     "metadata": {},
     "output_type": "execute_result"
    }
   ],
   "source": [
    "cps09mar.columns"
   ]
  },
  {
   "cell_type": "code",
   "execution_count": 24,
   "id": "b2e17bbc-6dfb-4097-a9c7-783e1a268500",
   "metadata": {},
   "outputs": [],
   "source": [
    "df = cps09mar.loc[cps09mar.female==0,['age','marital']].copy()\n",
    "df['married'] = (df['marital']<=4)*1\n",
    "df['divorced'] = (df['marital']==5)*1\n",
    "df['seperated'] = (df['marital']==6)*1\n",
    "df['never'] = (df['marital']==7)*1"
   ]
  },
  {
   "cell_type": "code",
   "execution_count": 73,
   "id": "b0ad359b-4564-4c52-b70d-393928414433",
   "metadata": {},
   "outputs": [],
   "source": [
    "def log_f(beta,data):\n",
    "    \"\"\"\n",
    "    See BH page 832.\n",
    "    \n",
    "    beta = (b1=beta_m,b2=beta_d,b3=beta_s,b4=beta_n)\n",
    "    \"\"\"\n",
    "    # P1 = np.exp(beta[0]*data.age)\n",
    "    # P2 = np.exp(beta[1]*data.age)\n",
    "    # P3 = np.exp(beta[2]*data.age)\n",
    "    # P4 = np.exp(beta[3]*data.age)\n",
    "    P1 = np.exp(beta[0] + beta[1]*data.age)\n",
    "    P2 = np.exp(beta[2] + beta[3]*data.age)\n",
    "    P3 = np.exp(beta[4] + beta[5]*data.age)\n",
    "    P4 = np.exp(beta[6]*data.age)\n",
    "    l_i = (data.married*P1 + data.divorced*P2 \n",
    "           + data.seperated*P3 + data.never*P4)\n",
    "    return np.sum(l_i)\n",
    "\n",
    "def l(beta):\n",
    "    return log_f(beta, data=df)"
   ]
  },
  {
   "cell_type": "code",
   "execution_count": 77,
   "id": "bdf0555a-6210-4317-ae27-cb3fc68faaa4",
   "metadata": {},
   "outputs": [],
   "source": [
    "from scipy.optimize import minimize\n",
    "opt = minimize(l, [0]*7, method = 'BFGS')\n",
    "beta_hat = opt.x"
   ]
  },
  {
   "cell_type": "code",
   "execution_count": 78,
   "id": "434dcfb1-67d6-41cc-8f27-ce71c61337df",
   "metadata": {},
   "outputs": [],
   "source": [
    "# df['exp1'] = np.exp(beta_hat[0] * df['age'])\n",
    "# df['exp2'] = np.exp(beta_hat[1] * df['age'])\n",
    "# df['exp3'] = np.exp(beta_hat[2] * df['age'])\n",
    "# df['exp4'] = np.exp(beta_hat[3] * df['age'])\n",
    "df['exp1'] = np.exp(beta_hat[0]+beta_hat[1]*df['age'])\n",
    "df['exp2'] = np.exp(beta_hat[2]+beta_hat[3]*df['age'])\n",
    "df['exp3'] = np.exp(beta_hat[4]+beta_hat[5]*df['age'])\n",
    "df['exp4'] = np.exp(beta_hat[6]*df['age'])\n",
    "df['denom'] = df['exp1'] + df['exp2'] + df['exp3'] + df['exp4']\n",
    "df['Pr(married)'] = df['exp1'] / df['denom']\n",
    "df['Pr(divorced)'] = df['exp2'] / df['denom']\n",
    "df['Pr(seperated)'] = df['exp3'] / df['denom']\n",
    "df['Pr(never)'] = df['exp4'] / df['denom']"
   ]
  },
  {
   "cell_type": "code",
   "execution_count": 79,
   "id": "67357e49-6230-4ac2-83b3-715607ff152e",
   "metadata": {},
   "outputs": [
    {
     "data": {
      "text/plain": [
       "<AxesSubplot: xlabel='age'>"
      ]
     },
     "execution_count": 79,
     "metadata": {},
     "output_type": "execute_result"
    },
    {
     "data": {
      "image/png": "[encoded data removed]",
      "text/plain": [
       "<Figure size 640x480 with 1 Axes>"
      ]
     },
     "metadata": {},
     "output_type": "display_data"
    }
   ],
   "source": [
    "#df.plot('age',['P1','P2','P3','P4'])  # haha\n",
    "df_unique = df[df.age.duplicated()==False].sort_values('age')\n",
    "df_unique.plot('age',['Pr(married)','Pr(divorced)','Pr(seperated)','Pr(never)'])"
   ]
  },
  {
   "cell_type": "code",
   "execution_count": null,
   "id": "4ffc93a1-67b3-4fc8-8a6c-b6c157d64ce9",
   "metadata": {},
   "outputs": [],
   "source": []
  }
 ],
 "metadata": {
  "environment": {
   "kernel": "python3",
   "name": "common-cpu.m94",
   "type": "gcloud",
   "uri": "gcr.io/deeplearning-platform-release/base-cpu:m94"
  },
  "kernelspec": {
   "display_name": "Python 3 (ipykernel)",
   "language": "python",
   "name": "python3"
  },
  "language_info": {
   "codemirror_mode": {
    "name": "ipython",
    "version": 3
   },
   "file_extension": ".py",
   "mimetype": "text/x-python",
   "name": "python",
   "nbconvert_exporter": "python",
   "pygments_lexer": "ipython3",
   "version": "3.9.12"
  }
 },
 "nbformat": 4,
 "nbformat_minor": 5
}
